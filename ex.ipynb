{
 "cells": [
  {
   "cell_type": "code",
   "execution_count": 6,
   "metadata": {},
   "outputs": [
    {
     "name": "stdout",
     "output_type": "stream",
     "text": [
      "Best solution: [6.51857048 0.62840399]\n",
      "Objective function value: 42.88665273417525\n"
     ]
    }
   ],
   "source": [
    "import numpy as np\n",
    "from jaya_algorithm import JayaOptimizer\n",
    "\n",
    "# Define the objective function\n",
    "def objective_function(X):\n",
    "    return np.sum(X**2)\n",
    "\n",
    "# Define variable boundaries\n",
    "boundaries = [[-10, 10], [-10, 10]]\n",
    "\n",
    "# Create an instance of JayaOptimizer\n",
    "optimizer = JayaOptimizer(\n",
    "    function=objective_function,\n",
    "    dimension=2,\n",
    "    variable_boundaries=boundaries\n",
    ")\n",
    "\n",
    "# Run the optimization\n",
    "best_solution, best_value, convergence_history = optimizer.optimize()\n",
    "\n",
    "print(\"Best solution:\", best_solution)\n",
    "print(\"Objective function value:\", best_value)\n"
   ]
  },
  {
   "cell_type": "code",
   "execution_count": null,
   "metadata": {},
   "outputs": [],
   "source": []
  }
 ],
 "metadata": {
  "kernelspec": {
   "display_name": "base",
   "language": "python",
   "name": "python3"
  },
  "language_info": {
   "codemirror_mode": {
    "name": "ipython",
    "version": 3
   },
   "file_extension": ".py",
   "mimetype": "text/x-python",
   "name": "python",
   "nbconvert_exporter": "python",
   "pygments_lexer": "ipython3",
   "version": "3.11.5"
  }
 },
 "nbformat": 4,
 "nbformat_minor": 2
}
